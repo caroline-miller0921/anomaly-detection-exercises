{
 "cells": [
  {
   "cell_type": "code",
   "execution_count": 1,
   "id": "16132e08",
   "metadata": {},
   "outputs": [],
   "source": [
    "import numpy as np\n",
    "import pandas as pd\n",
    "import matplotlib.pyplot as plt\n",
    "import seaborn as sns\n",
    "from pydataset import data\n",
    "import os\n",
    "from pandas.api.types import is_numeric_dtype"
   ]
  },
  {
   "cell_type": "code",
   "execution_count": 2,
   "id": "510757f4",
   "metadata": {},
   "outputs": [],
   "source": [
    "def get_lemonade():\n",
    "    if os.path.isfile('lemonade.csv'):\n",
    "        df = pd.read_csv('lemonade.csv')\n",
    "        return df"
   ]
  },
  {
   "cell_type": "code",
   "execution_count": 3,
   "id": "2db2b88c",
   "metadata": {},
   "outputs": [],
   "source": [
    "df = get_lemonade()"
   ]
  },
  {
   "cell_type": "code",
   "execution_count": 4,
   "id": "9cecec5c",
   "metadata": {},
   "outputs": [
    {
     "data": {
      "text/html": [
       "<div>\n",
       "<style scoped>\n",
       "    .dataframe tbody tr th:only-of-type {\n",
       "        vertical-align: middle;\n",
       "    }\n",
       "\n",
       "    .dataframe tbody tr th {\n",
       "        vertical-align: top;\n",
       "    }\n",
       "\n",
       "    .dataframe thead th {\n",
       "        text-align: right;\n",
       "    }\n",
       "</style>\n",
       "<table border=\"1\" class=\"dataframe\">\n",
       "  <thead>\n",
       "    <tr style=\"text-align: right;\">\n",
       "      <th></th>\n",
       "      <th>Date</th>\n",
       "      <th>Day</th>\n",
       "      <th>Temperature</th>\n",
       "      <th>Rainfall</th>\n",
       "      <th>Flyers</th>\n",
       "      <th>Price</th>\n",
       "      <th>Sales</th>\n",
       "    </tr>\n",
       "  </thead>\n",
       "  <tbody>\n",
       "    <tr>\n",
       "      <th>0</th>\n",
       "      <td>1/1/17</td>\n",
       "      <td>Sunday</td>\n",
       "      <td>27.0</td>\n",
       "      <td>2.00</td>\n",
       "      <td>15</td>\n",
       "      <td>0.5</td>\n",
       "      <td>10</td>\n",
       "    </tr>\n",
       "    <tr>\n",
       "      <th>1</th>\n",
       "      <td>1/2/17</td>\n",
       "      <td>Monday</td>\n",
       "      <td>28.9</td>\n",
       "      <td>1.33</td>\n",
       "      <td>15</td>\n",
       "      <td>0.5</td>\n",
       "      <td>13</td>\n",
       "    </tr>\n",
       "    <tr>\n",
       "      <th>2</th>\n",
       "      <td>1/3/17</td>\n",
       "      <td>Tuesday</td>\n",
       "      <td>34.5</td>\n",
       "      <td>1.33</td>\n",
       "      <td>27</td>\n",
       "      <td>0.5</td>\n",
       "      <td>15</td>\n",
       "    </tr>\n",
       "    <tr>\n",
       "      <th>3</th>\n",
       "      <td>1/4/17</td>\n",
       "      <td>Wednesday</td>\n",
       "      <td>44.1</td>\n",
       "      <td>1.05</td>\n",
       "      <td>28</td>\n",
       "      <td>0.5</td>\n",
       "      <td>17</td>\n",
       "    </tr>\n",
       "    <tr>\n",
       "      <th>4</th>\n",
       "      <td>1/5/17</td>\n",
       "      <td>Thursday</td>\n",
       "      <td>42.4</td>\n",
       "      <td>1.00</td>\n",
       "      <td>33</td>\n",
       "      <td>0.5</td>\n",
       "      <td>18</td>\n",
       "    </tr>\n",
       "  </tbody>\n",
       "</table>\n",
       "</div>"
      ],
      "text/plain": [
       "     Date        Day  Temperature  Rainfall  Flyers  Price  Sales\n",
       "0  1/1/17     Sunday         27.0      2.00      15    0.5     10\n",
       "1  1/2/17     Monday         28.9      1.33      15    0.5     13\n",
       "2  1/3/17    Tuesday         34.5      1.33      27    0.5     15\n",
       "3  1/4/17  Wednesday         44.1      1.05      28    0.5     17\n",
       "4  1/5/17   Thursday         42.4      1.00      33    0.5     18"
      ]
     },
     "execution_count": 4,
     "metadata": {},
     "output_type": "execute_result"
    }
   ],
   "source": [
    "df.head()"
   ]
  },
  {
   "cell_type": "markdown",
   "id": "8c661b0c",
   "metadata": {},
   "source": [
    "**1. Define a function named get_lower_and_upper_bounds that has two arguments. The first argument is a pandas Series. The second argument is the multiplier, which should have a default argument of 1.5.**"
   ]
  },
  {
   "cell_type": "code",
   "execution_count": 5,
   "id": "05df428a",
   "metadata": {},
   "outputs": [],
   "source": [
    "def get_lower_and_upper_bounds(df, col, k):\n",
    "    \n",
    "    q1 = df[col].quantile(.25)\n",
    "    q3 = df[col].quantile(.75)\n",
    "    iqr = q3 - q1\n",
    "    lower_bound = q1 - (iqr * k)\n",
    "    upper_bound = q3 + (iqr + k)\n",
    "    return lower_bound, upper_bound\n",
    "        "
   ]
  },
  {
   "cell_type": "code",
   "execution_count": 6,
   "id": "9365914d",
   "metadata": {},
   "outputs": [],
   "source": [
    "def get_bounds(df, k):\n",
    "    my_fences = {}\n",
    "    for col in df.columns:\n",
    "        if is_numeric_dtype(df[col]) == True:\n",
    "            my_fences[col] = get_lower_and_upper_bounds(df, col, k)\n",
    "    return my_fences"
   ]
  },
  {
   "cell_type": "markdown",
   "id": "eaa062b1",
   "metadata": {},
   "source": [
    "#### 1. Using lemonade.csv dataset and focusing on continuous variables:"
   ]
  },
  {
   "cell_type": "markdown",
   "id": "2f14ed10",
   "metadata": {},
   "source": [
    "Use the IQR Range Rule and the upper and lower bounds to identify the lower outliers of each column of lemonade.csv, using the multiplier of 1.5. Do these lower outliers make sense? Which outliers should be kept?"
   ]
  },
  {
   "cell_type": "code",
   "execution_count": 7,
   "id": "4b0b9cec",
   "metadata": {},
   "outputs": [],
   "source": [
    "df['Date'] = pd.to_datetime(df.Date)"
   ]
  },
  {
   "cell_type": "code",
   "execution_count": 8,
   "id": "22830085",
   "metadata": {},
   "outputs": [
    {
     "data": {
      "text/html": [
       "<div>\n",
       "<style scoped>\n",
       "    .dataframe tbody tr th:only-of-type {\n",
       "        vertical-align: middle;\n",
       "    }\n",
       "\n",
       "    .dataframe tbody tr th {\n",
       "        vertical-align: top;\n",
       "    }\n",
       "\n",
       "    .dataframe thead th {\n",
       "        text-align: right;\n",
       "    }\n",
       "</style>\n",
       "<table border=\"1\" class=\"dataframe\">\n",
       "  <thead>\n",
       "    <tr style=\"text-align: right;\">\n",
       "      <th></th>\n",
       "      <th>Date</th>\n",
       "      <th>Day</th>\n",
       "      <th>Temperature</th>\n",
       "      <th>Rainfall</th>\n",
       "      <th>Flyers</th>\n",
       "      <th>Price</th>\n",
       "      <th>Sales</th>\n",
       "    </tr>\n",
       "  </thead>\n",
       "  <tbody>\n",
       "    <tr>\n",
       "      <th>0</th>\n",
       "      <td>2017-01-01</td>\n",
       "      <td>Sunday</td>\n",
       "      <td>27.0</td>\n",
       "      <td>2.00</td>\n",
       "      <td>15</td>\n",
       "      <td>0.5</td>\n",
       "      <td>10</td>\n",
       "    </tr>\n",
       "    <tr>\n",
       "      <th>1</th>\n",
       "      <td>2017-01-02</td>\n",
       "      <td>Monday</td>\n",
       "      <td>28.9</td>\n",
       "      <td>1.33</td>\n",
       "      <td>15</td>\n",
       "      <td>0.5</td>\n",
       "      <td>13</td>\n",
       "    </tr>\n",
       "    <tr>\n",
       "      <th>2</th>\n",
       "      <td>2017-01-03</td>\n",
       "      <td>Tuesday</td>\n",
       "      <td>34.5</td>\n",
       "      <td>1.33</td>\n",
       "      <td>27</td>\n",
       "      <td>0.5</td>\n",
       "      <td>15</td>\n",
       "    </tr>\n",
       "    <tr>\n",
       "      <th>3</th>\n",
       "      <td>2017-01-04</td>\n",
       "      <td>Wednesday</td>\n",
       "      <td>44.1</td>\n",
       "      <td>1.05</td>\n",
       "      <td>28</td>\n",
       "      <td>0.5</td>\n",
       "      <td>17</td>\n",
       "    </tr>\n",
       "    <tr>\n",
       "      <th>4</th>\n",
       "      <td>2017-01-05</td>\n",
       "      <td>Thursday</td>\n",
       "      <td>42.4</td>\n",
       "      <td>1.00</td>\n",
       "      <td>33</td>\n",
       "      <td>0.5</td>\n",
       "      <td>18</td>\n",
       "    </tr>\n",
       "  </tbody>\n",
       "</table>\n",
       "</div>"
      ],
      "text/plain": [
       "        Date        Day  Temperature  Rainfall  Flyers  Price  Sales\n",
       "0 2017-01-01     Sunday         27.0      2.00      15    0.5     10\n",
       "1 2017-01-02     Monday         28.9      1.33      15    0.5     13\n",
       "2 2017-01-03    Tuesday         34.5      1.33      27    0.5     15\n",
       "3 2017-01-04  Wednesday         44.1      1.05      28    0.5     17\n",
       "4 2017-01-05   Thursday         42.4      1.00      33    0.5     18"
      ]
     },
     "execution_count": 8,
     "metadata": {},
     "output_type": "execute_result"
    }
   ],
   "source": [
    "df.head()"
   ]
  },
  {
   "cell_type": "code",
   "execution_count": 9,
   "id": "c7672bdb",
   "metadata": {},
   "outputs": [
    {
     "data": {
      "text/html": [
       "<div>\n",
       "<style scoped>\n",
       "    .dataframe tbody tr th:only-of-type {\n",
       "        vertical-align: middle;\n",
       "    }\n",
       "\n",
       "    .dataframe tbody tr th {\n",
       "        vertical-align: top;\n",
       "    }\n",
       "\n",
       "    .dataframe thead th {\n",
       "        text-align: right;\n",
       "    }\n",
       "</style>\n",
       "<table border=\"1\" class=\"dataframe\">\n",
       "  <thead>\n",
       "    <tr style=\"text-align: right;\">\n",
       "      <th></th>\n",
       "      <th>Temperature</th>\n",
       "      <th>Rainfall</th>\n",
       "      <th>Flyers</th>\n",
       "      <th>Price</th>\n",
       "      <th>Sales</th>\n",
       "    </tr>\n",
       "  </thead>\n",
       "  <tbody>\n",
       "    <tr>\n",
       "      <th>count</th>\n",
       "      <td>365.000000</td>\n",
       "      <td>365.000000</td>\n",
       "      <td>365.000000</td>\n",
       "      <td>365.0</td>\n",
       "      <td>365.000000</td>\n",
       "    </tr>\n",
       "    <tr>\n",
       "      <th>mean</th>\n",
       "      <td>61.224658</td>\n",
       "      <td>0.825973</td>\n",
       "      <td>40.104110</td>\n",
       "      <td>0.5</td>\n",
       "      <td>27.865753</td>\n",
       "    </tr>\n",
       "    <tr>\n",
       "      <th>std</th>\n",
       "      <td>18.085892</td>\n",
       "      <td>0.273890</td>\n",
       "      <td>13.786445</td>\n",
       "      <td>0.0</td>\n",
       "      <td>30.948132</td>\n",
       "    </tr>\n",
       "    <tr>\n",
       "      <th>min</th>\n",
       "      <td>15.100000</td>\n",
       "      <td>0.400000</td>\n",
       "      <td>-38.000000</td>\n",
       "      <td>0.5</td>\n",
       "      <td>7.000000</td>\n",
       "    </tr>\n",
       "    <tr>\n",
       "      <th>25%</th>\n",
       "      <td>49.700000</td>\n",
       "      <td>0.650000</td>\n",
       "      <td>31.000000</td>\n",
       "      <td>0.5</td>\n",
       "      <td>20.000000</td>\n",
       "    </tr>\n",
       "    <tr>\n",
       "      <th>50%</th>\n",
       "      <td>61.100000</td>\n",
       "      <td>0.740000</td>\n",
       "      <td>39.000000</td>\n",
       "      <td>0.5</td>\n",
       "      <td>25.000000</td>\n",
       "    </tr>\n",
       "    <tr>\n",
       "      <th>75%</th>\n",
       "      <td>71.700000</td>\n",
       "      <td>0.910000</td>\n",
       "      <td>49.000000</td>\n",
       "      <td>0.5</td>\n",
       "      <td>30.000000</td>\n",
       "    </tr>\n",
       "    <tr>\n",
       "      <th>max</th>\n",
       "      <td>212.000000</td>\n",
       "      <td>2.500000</td>\n",
       "      <td>80.000000</td>\n",
       "      <td>0.5</td>\n",
       "      <td>534.000000</td>\n",
       "    </tr>\n",
       "  </tbody>\n",
       "</table>\n",
       "</div>"
      ],
      "text/plain": [
       "       Temperature    Rainfall      Flyers  Price       Sales\n",
       "count   365.000000  365.000000  365.000000  365.0  365.000000\n",
       "mean     61.224658    0.825973   40.104110    0.5   27.865753\n",
       "std      18.085892    0.273890   13.786445    0.0   30.948132\n",
       "min      15.100000    0.400000  -38.000000    0.5    7.000000\n",
       "25%      49.700000    0.650000   31.000000    0.5   20.000000\n",
       "50%      61.100000    0.740000   39.000000    0.5   25.000000\n",
       "75%      71.700000    0.910000   49.000000    0.5   30.000000\n",
       "max     212.000000    2.500000   80.000000    0.5  534.000000"
      ]
     },
     "execution_count": 9,
     "metadata": {},
     "output_type": "execute_result"
    }
   ],
   "source": [
    "df.describe()"
   ]
  },
  {
   "cell_type": "code",
   "execution_count": 10,
   "id": "807db0f1",
   "metadata": {},
   "outputs": [
    {
     "data": {
      "text/html": [
       "<div>\n",
       "<style scoped>\n",
       "    .dataframe tbody tr th:only-of-type {\n",
       "        vertical-align: middle;\n",
       "    }\n",
       "\n",
       "    .dataframe tbody tr th {\n",
       "        vertical-align: top;\n",
       "    }\n",
       "\n",
       "    .dataframe thead th {\n",
       "        text-align: right;\n",
       "    }\n",
       "</style>\n",
       "<table border=\"1\" class=\"dataframe\">\n",
       "  <thead>\n",
       "    <tr style=\"text-align: right;\">\n",
       "      <th></th>\n",
       "      <th>0</th>\n",
       "      <th>1</th>\n",
       "    </tr>\n",
       "  </thead>\n",
       "  <tbody>\n",
       "    <tr>\n",
       "      <th>Temperature</th>\n",
       "      <td>16.70</td>\n",
       "      <td>95.20</td>\n",
       "    </tr>\n",
       "    <tr>\n",
       "      <th>Rainfall</th>\n",
       "      <td>0.26</td>\n",
       "      <td>2.67</td>\n",
       "    </tr>\n",
       "    <tr>\n",
       "      <th>Flyers</th>\n",
       "      <td>4.00</td>\n",
       "      <td>68.50</td>\n",
       "    </tr>\n",
       "    <tr>\n",
       "      <th>Price</th>\n",
       "      <td>0.50</td>\n",
       "      <td>2.00</td>\n",
       "    </tr>\n",
       "    <tr>\n",
       "      <th>Sales</th>\n",
       "      <td>5.00</td>\n",
       "      <td>41.50</td>\n",
       "    </tr>\n",
       "  </tbody>\n",
       "</table>\n",
       "</div>"
      ],
      "text/plain": [
       "                 0      1\n",
       "Temperature  16.70  95.20\n",
       "Rainfall      0.26   2.67\n",
       "Flyers        4.00  68.50\n",
       "Price         0.50   2.00\n",
       "Sales         5.00  41.50"
      ]
     },
     "execution_count": 10,
     "metadata": {},
     "output_type": "execute_result"
    }
   ],
   "source": [
    "my_fences = get_bounds(df, k=1.5)\n",
    "pd.DataFrame(my_fences).T"
   ]
  },
  {
   "cell_type": "code",
   "execution_count": 11,
   "id": "6a22627f",
   "metadata": {},
   "outputs": [],
   "source": [
    "def get_lower_outliers(df, my_fences):\n",
    "\n",
    "    for col in my_fences:\n",
    "\n",
    "        print(f'For feature {col}')\n",
    "        print(df[\n",
    "        (df[col] < my_fences[col][0])])\n",
    "        print('========================')"
   ]
  },
  {
   "cell_type": "code",
   "execution_count": 12,
   "id": "c107a024",
   "metadata": {},
   "outputs": [
    {
     "name": "stdout",
     "output_type": "stream",
     "text": [
      "For feature Temperature\n",
      "          Date     Day  Temperature  Rainfall  Flyers  Price  Sales\n",
      "364 2017-12-31  Sunday         15.1       2.5       9    0.5      7\n",
      "========================\n",
      "For feature Rainfall\n",
      "Empty DataFrame\n",
      "Columns: [Date, Day, Temperature, Rainfall, Flyers, Price, Sales]\n",
      "Index: []\n",
      "========================\n",
      "For feature Flyers\n",
      "          Date      Day  Temperature  Rainfall  Flyers  Price  Sales\n",
      "324 2017-11-21  Tuesday         47.0      0.95     -38    0.5     20\n",
      "========================\n",
      "For feature Price\n",
      "Empty DataFrame\n",
      "Columns: [Date, Day, Temperature, Rainfall, Flyers, Price, Sales]\n",
      "Index: []\n",
      "========================\n",
      "For feature Sales\n",
      "Empty DataFrame\n",
      "Columns: [Date, Day, Temperature, Rainfall, Flyers, Price, Sales]\n",
      "Index: []\n",
      "========================\n"
     ]
    }
   ],
   "source": [
    "get_lower_outliers(df, my_fences)"
   ]
  },
  {
   "cell_type": "markdown",
   "id": "0c441558",
   "metadata": {},
   "source": [
    "Keep the lower outliers for:\n",
    "\n",
    "    - Temperature\n",
    "    - Flyers (maybe not though because its so much lower than the lower bound)"
   ]
  },
  {
   "cell_type": "markdown",
   "id": "a43f5ec7",
   "metadata": {},
   "source": [
    "Use the IQR Range Rule and the upper and upper bounds to identify the upper outliers of each column of lemonade.csv, using the multiplier of 1.5. Do these upper outliers make sense? Which outliers should be kept?"
   ]
  },
  {
   "cell_type": "code",
   "execution_count": 13,
   "id": "fe3b9cb6",
   "metadata": {},
   "outputs": [
    {
     "data": {
      "text/html": [
       "<div>\n",
       "<style scoped>\n",
       "    .dataframe tbody tr th:only-of-type {\n",
       "        vertical-align: middle;\n",
       "    }\n",
       "\n",
       "    .dataframe tbody tr th {\n",
       "        vertical-align: top;\n",
       "    }\n",
       "\n",
       "    .dataframe thead th {\n",
       "        text-align: right;\n",
       "    }\n",
       "</style>\n",
       "<table border=\"1\" class=\"dataframe\">\n",
       "  <thead>\n",
       "    <tr style=\"text-align: right;\">\n",
       "      <th></th>\n",
       "      <th>0</th>\n",
       "      <th>1</th>\n",
       "    </tr>\n",
       "  </thead>\n",
       "  <tbody>\n",
       "    <tr>\n",
       "      <th>Temperature</th>\n",
       "      <td>16.70</td>\n",
       "      <td>95.20</td>\n",
       "    </tr>\n",
       "    <tr>\n",
       "      <th>Rainfall</th>\n",
       "      <td>0.26</td>\n",
       "      <td>2.67</td>\n",
       "    </tr>\n",
       "    <tr>\n",
       "      <th>Flyers</th>\n",
       "      <td>4.00</td>\n",
       "      <td>68.50</td>\n",
       "    </tr>\n",
       "    <tr>\n",
       "      <th>Price</th>\n",
       "      <td>0.50</td>\n",
       "      <td>2.00</td>\n",
       "    </tr>\n",
       "    <tr>\n",
       "      <th>Sales</th>\n",
       "      <td>5.00</td>\n",
       "      <td>41.50</td>\n",
       "    </tr>\n",
       "  </tbody>\n",
       "</table>\n",
       "</div>"
      ],
      "text/plain": [
       "                 0      1\n",
       "Temperature  16.70  95.20\n",
       "Rainfall      0.26   2.67\n",
       "Flyers        4.00  68.50\n",
       "Price         0.50   2.00\n",
       "Sales         5.00  41.50"
      ]
     },
     "execution_count": 13,
     "metadata": {},
     "output_type": "execute_result"
    }
   ],
   "source": [
    "pd.DataFrame(my_fences).T"
   ]
  },
  {
   "cell_type": "code",
   "execution_count": 14,
   "id": "4744b039",
   "metadata": {},
   "outputs": [],
   "source": [
    "def get_upper_outliers(df, my_fences):\n",
    "\n",
    "    for col in my_fences:\n",
    "\n",
    "        print(f'For feature {col}')\n",
    "        print(df[\n",
    "        (df[col] > my_fences[col][1])])\n",
    "        print('========================')"
   ]
  },
  {
   "cell_type": "code",
   "execution_count": 15,
   "id": "a054b958",
   "metadata": {},
   "outputs": [
    {
     "name": "stdout",
     "output_type": "stream",
     "text": [
      "For feature Temperature\n",
      "          Date       Day  Temperature  Rainfall  Flyers  Price  Sales\n",
      "41  2017-02-11  Saturday        212.0      0.91      35    0.5     21\n",
      "166 2017-06-16    Friday         99.3      0.47      77    0.5     41\n",
      "176 2017-06-26    Monday        102.6      0.47      60    0.5     42\n",
      "181 2017-07-01  Saturday        102.9      0.47      59    0.5    143\n",
      "190 2017-07-10    Monday         98.0      0.49      66    0.5     40\n",
      "198 2017-07-18   Tuesday         99.3      0.47      76    0.5     41\n",
      "202 2017-07-22  Saturday         99.6      0.47      49    0.5     42\n",
      "207 2017-07-27  Thursday         97.9      0.47      74    0.5     43\n",
      "========================\n",
      "For feature Rainfall\n",
      "Empty DataFrame\n",
      "Columns: [Date, Day, Temperature, Rainfall, Flyers, Price, Sales]\n",
      "Index: []\n",
      "========================\n",
      "For feature Flyers\n",
      "          Date        Day  Temperature  Rainfall  Flyers  Price  Sales\n",
      "166 2017-06-16     Friday         99.3      0.47      77    0.5     41\n",
      "170 2017-06-20    Tuesday         85.1      0.54      70    0.5     37\n",
      "171 2017-06-21  Wednesday         94.3      0.47      76    0.5     41\n",
      "194 2017-07-14     Friday         92.0      0.50      80    0.5     40\n",
      "198 2017-07-18    Tuesday         99.3      0.47      76    0.5     41\n",
      "203 2017-07-23     Sunday         89.1      0.51      72    0.5     37\n",
      "204 2017-07-24     Monday         83.5      0.57      69    0.5     35\n",
      "207 2017-07-27   Thursday         97.9      0.47      74    0.5     43\n",
      "========================\n",
      "For feature Price\n",
      "Empty DataFrame\n",
      "Columns: [Date, Day, Temperature, Rainfall, Flyers, Price, Sales]\n",
      "Index: []\n",
      "========================\n",
      "For feature Sales\n",
      "          Date       Day  Temperature  Rainfall  Flyers  Price  Sales\n",
      "176 2017-06-26    Monday        102.6      0.47      60    0.5     42\n",
      "181 2017-07-01  Saturday        102.9      0.47      59    0.5    143\n",
      "182 2017-07-02    Sunday         93.4      0.51      68    0.5    158\n",
      "183 2017-07-03    Monday         81.5      0.54      68    0.5    235\n",
      "184 2017-07-04   Tuesday         84.2      0.59      49    0.5    534\n",
      "202 2017-07-22  Saturday         99.6      0.47      49    0.5     42\n",
      "207 2017-07-27  Thursday         97.9      0.47      74    0.5     43\n",
      "========================\n"
     ]
    }
   ],
   "source": [
    "get_upper_outliers(df, my_fences)"
   ]
  },
  {
   "cell_type": "markdown",
   "id": "5dad85c6",
   "metadata": {},
   "source": [
    "Keep the upper outliers for:\n",
    "    \n",
    "    - Temperature: all but 212, way high\n",
    "    - Flyers\n",
    "    - Sales: keep all lower than 143"
   ]
  },
  {
   "cell_type": "markdown",
   "id": "e95b7ff5",
   "metadata": {},
   "source": [
    "Using the multiplier of 3, IQR Range Rule, and the lower bounds, identify the outliers below the lower bound in each colum of lemonade.csv. Do these lower outliers make sense? Which outliers should be kept?"
   ]
  },
  {
   "cell_type": "code",
   "execution_count": 16,
   "id": "c0a72e54",
   "metadata": {},
   "outputs": [],
   "source": [
    "my_fences = get_bounds(df, 3)"
   ]
  },
  {
   "cell_type": "code",
   "execution_count": 17,
   "id": "e933a677",
   "metadata": {},
   "outputs": [
    {
     "data": {
      "text/html": [
       "<div>\n",
       "<style scoped>\n",
       "    .dataframe tbody tr th:only-of-type {\n",
       "        vertical-align: middle;\n",
       "    }\n",
       "\n",
       "    .dataframe tbody tr th {\n",
       "        vertical-align: top;\n",
       "    }\n",
       "\n",
       "    .dataframe thead th {\n",
       "        text-align: right;\n",
       "    }\n",
       "</style>\n",
       "<table border=\"1\" class=\"dataframe\">\n",
       "  <thead>\n",
       "    <tr style=\"text-align: right;\">\n",
       "      <th></th>\n",
       "      <th>0</th>\n",
       "      <th>1</th>\n",
       "    </tr>\n",
       "  </thead>\n",
       "  <tbody>\n",
       "    <tr>\n",
       "      <th>Temperature</th>\n",
       "      <td>-16.30</td>\n",
       "      <td>96.70</td>\n",
       "    </tr>\n",
       "    <tr>\n",
       "      <th>Rainfall</th>\n",
       "      <td>-0.13</td>\n",
       "      <td>4.17</td>\n",
       "    </tr>\n",
       "    <tr>\n",
       "      <th>Flyers</th>\n",
       "      <td>-23.00</td>\n",
       "      <td>70.00</td>\n",
       "    </tr>\n",
       "    <tr>\n",
       "      <th>Price</th>\n",
       "      <td>0.50</td>\n",
       "      <td>3.50</td>\n",
       "    </tr>\n",
       "    <tr>\n",
       "      <th>Sales</th>\n",
       "      <td>-10.00</td>\n",
       "      <td>43.00</td>\n",
       "    </tr>\n",
       "  </tbody>\n",
       "</table>\n",
       "</div>"
      ],
      "text/plain": [
       "                 0      1\n",
       "Temperature -16.30  96.70\n",
       "Rainfall     -0.13   4.17\n",
       "Flyers      -23.00  70.00\n",
       "Price         0.50   3.50\n",
       "Sales       -10.00  43.00"
      ]
     },
     "execution_count": 17,
     "metadata": {},
     "output_type": "execute_result"
    }
   ],
   "source": [
    "pd.DataFrame(my_fences).T"
   ]
  },
  {
   "cell_type": "code",
   "execution_count": 19,
   "id": "af7f4ff1",
   "metadata": {},
   "outputs": [
    {
     "data": {
      "text/html": [
       "<div>\n",
       "<style scoped>\n",
       "    .dataframe tbody tr th:only-of-type {\n",
       "        vertical-align: middle;\n",
       "    }\n",
       "\n",
       "    .dataframe tbody tr th {\n",
       "        vertical-align: top;\n",
       "    }\n",
       "\n",
       "    .dataframe thead th {\n",
       "        text-align: right;\n",
       "    }\n",
       "</style>\n",
       "<table border=\"1\" class=\"dataframe\">\n",
       "  <thead>\n",
       "    <tr style=\"text-align: right;\">\n",
       "      <th></th>\n",
       "      <th>Temperature</th>\n",
       "      <th>Rainfall</th>\n",
       "      <th>Flyers</th>\n",
       "      <th>Price</th>\n",
       "      <th>Sales</th>\n",
       "    </tr>\n",
       "  </thead>\n",
       "  <tbody>\n",
       "    <tr>\n",
       "      <th>count</th>\n",
       "      <td>365.000000</td>\n",
       "      <td>365.000000</td>\n",
       "      <td>365.000000</td>\n",
       "      <td>365.0</td>\n",
       "      <td>365.000000</td>\n",
       "    </tr>\n",
       "    <tr>\n",
       "      <th>mean</th>\n",
       "      <td>61.224658</td>\n",
       "      <td>0.825973</td>\n",
       "      <td>40.104110</td>\n",
       "      <td>0.5</td>\n",
       "      <td>27.865753</td>\n",
       "    </tr>\n",
       "    <tr>\n",
       "      <th>std</th>\n",
       "      <td>18.085892</td>\n",
       "      <td>0.273890</td>\n",
       "      <td>13.786445</td>\n",
       "      <td>0.0</td>\n",
       "      <td>30.948132</td>\n",
       "    </tr>\n",
       "    <tr>\n",
       "      <th>min</th>\n",
       "      <td>15.100000</td>\n",
       "      <td>0.400000</td>\n",
       "      <td>-38.000000</td>\n",
       "      <td>0.5</td>\n",
       "      <td>7.000000</td>\n",
       "    </tr>\n",
       "    <tr>\n",
       "      <th>25%</th>\n",
       "      <td>49.700000</td>\n",
       "      <td>0.650000</td>\n",
       "      <td>31.000000</td>\n",
       "      <td>0.5</td>\n",
       "      <td>20.000000</td>\n",
       "    </tr>\n",
       "    <tr>\n",
       "      <th>50%</th>\n",
       "      <td>61.100000</td>\n",
       "      <td>0.740000</td>\n",
       "      <td>39.000000</td>\n",
       "      <td>0.5</td>\n",
       "      <td>25.000000</td>\n",
       "    </tr>\n",
       "    <tr>\n",
       "      <th>75%</th>\n",
       "      <td>71.700000</td>\n",
       "      <td>0.910000</td>\n",
       "      <td>49.000000</td>\n",
       "      <td>0.5</td>\n",
       "      <td>30.000000</td>\n",
       "    </tr>\n",
       "    <tr>\n",
       "      <th>max</th>\n",
       "      <td>212.000000</td>\n",
       "      <td>2.500000</td>\n",
       "      <td>80.000000</td>\n",
       "      <td>0.5</td>\n",
       "      <td>534.000000</td>\n",
       "    </tr>\n",
       "  </tbody>\n",
       "</table>\n",
       "</div>"
      ],
      "text/plain": [
       "       Temperature    Rainfall      Flyers  Price       Sales\n",
       "count   365.000000  365.000000  365.000000  365.0  365.000000\n",
       "mean     61.224658    0.825973   40.104110    0.5   27.865753\n",
       "std      18.085892    0.273890   13.786445    0.0   30.948132\n",
       "min      15.100000    0.400000  -38.000000    0.5    7.000000\n",
       "25%      49.700000    0.650000   31.000000    0.5   20.000000\n",
       "50%      61.100000    0.740000   39.000000    0.5   25.000000\n",
       "75%      71.700000    0.910000   49.000000    0.5   30.000000\n",
       "max     212.000000    2.500000   80.000000    0.5  534.000000"
      ]
     },
     "execution_count": 19,
     "metadata": {},
     "output_type": "execute_result"
    }
   ],
   "source": [
    "df.describe()"
   ]
  },
  {
   "cell_type": "code",
   "execution_count": 18,
   "id": "7409801b",
   "metadata": {},
   "outputs": [
    {
     "name": "stdout",
     "output_type": "stream",
     "text": [
      "For feature Temperature\n",
      "Empty DataFrame\n",
      "Columns: [Date, Day, Temperature, Rainfall, Flyers, Price, Sales]\n",
      "Index: []\n",
      "========================\n",
      "For feature Rainfall\n",
      "Empty DataFrame\n",
      "Columns: [Date, Day, Temperature, Rainfall, Flyers, Price, Sales]\n",
      "Index: []\n",
      "========================\n",
      "For feature Flyers\n",
      "          Date      Day  Temperature  Rainfall  Flyers  Price  Sales\n",
      "324 2017-11-21  Tuesday         47.0      0.95     -38    0.5     20\n",
      "========================\n",
      "For feature Price\n",
      "Empty DataFrame\n",
      "Columns: [Date, Day, Temperature, Rainfall, Flyers, Price, Sales]\n",
      "Index: []\n",
      "========================\n",
      "For feature Sales\n",
      "Empty DataFrame\n",
      "Columns: [Date, Day, Temperature, Rainfall, Flyers, Price, Sales]\n",
      "Index: []\n",
      "========================\n"
     ]
    }
   ],
   "source": [
    "get_lower_outliers(df, my_fences)"
   ]
  },
  {
   "cell_type": "markdown",
   "id": "934fc341",
   "metadata": {},
   "source": [
    "With a k value of 3, if the value of -23 would be kept, then -38 may as well be kept in the df as well."
   ]
  },
  {
   "cell_type": "markdown",
   "id": "05bc4f01",
   "metadata": {},
   "source": [
    "Using the multiplier of 3, IQR Range Rule, and the upper bounds, identify the outliers above the upper_bound in each colum of lemonade.csv. Do these upper outliers make sense? Which outliers should be kept?"
   ]
  },
  {
   "cell_type": "code",
   "execution_count": 20,
   "id": "ac51ce89",
   "metadata": {},
   "outputs": [
    {
     "name": "stdout",
     "output_type": "stream",
     "text": [
      "For feature Temperature\n",
      "          Date       Day  Temperature  Rainfall  Flyers  Price  Sales\n",
      "41  2017-02-11  Saturday        212.0      0.91      35    0.5     21\n",
      "166 2017-06-16    Friday         99.3      0.47      77    0.5     41\n",
      "176 2017-06-26    Monday        102.6      0.47      60    0.5     42\n",
      "181 2017-07-01  Saturday        102.9      0.47      59    0.5    143\n",
      "190 2017-07-10    Monday         98.0      0.49      66    0.5     40\n",
      "198 2017-07-18   Tuesday         99.3      0.47      76    0.5     41\n",
      "202 2017-07-22  Saturday         99.6      0.47      49    0.5     42\n",
      "207 2017-07-27  Thursday         97.9      0.47      74    0.5     43\n",
      "========================\n",
      "For feature Rainfall\n",
      "Empty DataFrame\n",
      "Columns: [Date, Day, Temperature, Rainfall, Flyers, Price, Sales]\n",
      "Index: []\n",
      "========================\n",
      "For feature Flyers\n",
      "          Date        Day  Temperature  Rainfall  Flyers  Price  Sales\n",
      "166 2017-06-16     Friday         99.3      0.47      77    0.5     41\n",
      "171 2017-06-21  Wednesday         94.3      0.47      76    0.5     41\n",
      "194 2017-07-14     Friday         92.0      0.50      80    0.5     40\n",
      "198 2017-07-18    Tuesday         99.3      0.47      76    0.5     41\n",
      "203 2017-07-23     Sunday         89.1      0.51      72    0.5     37\n",
      "207 2017-07-27   Thursday         97.9      0.47      74    0.5     43\n",
      "========================\n",
      "For feature Price\n",
      "Empty DataFrame\n",
      "Columns: [Date, Day, Temperature, Rainfall, Flyers, Price, Sales]\n",
      "Index: []\n",
      "========================\n",
      "For feature Sales\n",
      "          Date       Day  Temperature  Rainfall  Flyers  Price  Sales\n",
      "181 2017-07-01  Saturday        102.9      0.47      59    0.5    143\n",
      "182 2017-07-02    Sunday         93.4      0.51      68    0.5    158\n",
      "183 2017-07-03    Monday         81.5      0.54      68    0.5    235\n",
      "184 2017-07-04   Tuesday         84.2      0.59      49    0.5    534\n",
      "========================\n"
     ]
    }
   ],
   "source": [
    "get_upper_outliers(df, my_fences)"
   ]
  },
  {
   "cell_type": "code",
   "execution_count": 21,
   "id": "4836cd6f",
   "metadata": {},
   "outputs": [
    {
     "data": {
      "text/html": [
       "<div>\n",
       "<style scoped>\n",
       "    .dataframe tbody tr th:only-of-type {\n",
       "        vertical-align: middle;\n",
       "    }\n",
       "\n",
       "    .dataframe tbody tr th {\n",
       "        vertical-align: top;\n",
       "    }\n",
       "\n",
       "    .dataframe thead th {\n",
       "        text-align: right;\n",
       "    }\n",
       "</style>\n",
       "<table border=\"1\" class=\"dataframe\">\n",
       "  <thead>\n",
       "    <tr style=\"text-align: right;\">\n",
       "      <th></th>\n",
       "      <th>0</th>\n",
       "      <th>1</th>\n",
       "    </tr>\n",
       "  </thead>\n",
       "  <tbody>\n",
       "    <tr>\n",
       "      <th>Temperature</th>\n",
       "      <td>-16.30</td>\n",
       "      <td>96.70</td>\n",
       "    </tr>\n",
       "    <tr>\n",
       "      <th>Rainfall</th>\n",
       "      <td>-0.13</td>\n",
       "      <td>4.17</td>\n",
       "    </tr>\n",
       "    <tr>\n",
       "      <th>Flyers</th>\n",
       "      <td>-23.00</td>\n",
       "      <td>70.00</td>\n",
       "    </tr>\n",
       "    <tr>\n",
       "      <th>Price</th>\n",
       "      <td>0.50</td>\n",
       "      <td>3.50</td>\n",
       "    </tr>\n",
       "    <tr>\n",
       "      <th>Sales</th>\n",
       "      <td>-10.00</td>\n",
       "      <td>43.00</td>\n",
       "    </tr>\n",
       "  </tbody>\n",
       "</table>\n",
       "</div>"
      ],
      "text/plain": [
       "                 0      1\n",
       "Temperature -16.30  96.70\n",
       "Rainfall     -0.13   4.17\n",
       "Flyers      -23.00  70.00\n",
       "Price         0.50   3.50\n",
       "Sales       -10.00  43.00"
      ]
     },
     "execution_count": 21,
     "metadata": {},
     "output_type": "execute_result"
    }
   ],
   "source": [
    "pd.DataFrame(my_fences).T"
   ]
  },
  {
   "cell_type": "code",
   "execution_count": 22,
   "id": "b548ca7c",
   "metadata": {},
   "outputs": [
    {
     "data": {
      "text/html": [
       "<div>\n",
       "<style scoped>\n",
       "    .dataframe tbody tr th:only-of-type {\n",
       "        vertical-align: middle;\n",
       "    }\n",
       "\n",
       "    .dataframe tbody tr th {\n",
       "        vertical-align: top;\n",
       "    }\n",
       "\n",
       "    .dataframe thead th {\n",
       "        text-align: right;\n",
       "    }\n",
       "</style>\n",
       "<table border=\"1\" class=\"dataframe\">\n",
       "  <thead>\n",
       "    <tr style=\"text-align: right;\">\n",
       "      <th></th>\n",
       "      <th>Temperature</th>\n",
       "      <th>Rainfall</th>\n",
       "      <th>Flyers</th>\n",
       "      <th>Price</th>\n",
       "      <th>Sales</th>\n",
       "    </tr>\n",
       "  </thead>\n",
       "  <tbody>\n",
       "    <tr>\n",
       "      <th>count</th>\n",
       "      <td>365.000000</td>\n",
       "      <td>365.000000</td>\n",
       "      <td>365.000000</td>\n",
       "      <td>365.0</td>\n",
       "      <td>365.000000</td>\n",
       "    </tr>\n",
       "    <tr>\n",
       "      <th>mean</th>\n",
       "      <td>61.224658</td>\n",
       "      <td>0.825973</td>\n",
       "      <td>40.104110</td>\n",
       "      <td>0.5</td>\n",
       "      <td>27.865753</td>\n",
       "    </tr>\n",
       "    <tr>\n",
       "      <th>std</th>\n",
       "      <td>18.085892</td>\n",
       "      <td>0.273890</td>\n",
       "      <td>13.786445</td>\n",
       "      <td>0.0</td>\n",
       "      <td>30.948132</td>\n",
       "    </tr>\n",
       "    <tr>\n",
       "      <th>min</th>\n",
       "      <td>15.100000</td>\n",
       "      <td>0.400000</td>\n",
       "      <td>-38.000000</td>\n",
       "      <td>0.5</td>\n",
       "      <td>7.000000</td>\n",
       "    </tr>\n",
       "    <tr>\n",
       "      <th>25%</th>\n",
       "      <td>49.700000</td>\n",
       "      <td>0.650000</td>\n",
       "      <td>31.000000</td>\n",
       "      <td>0.5</td>\n",
       "      <td>20.000000</td>\n",
       "    </tr>\n",
       "    <tr>\n",
       "      <th>50%</th>\n",
       "      <td>61.100000</td>\n",
       "      <td>0.740000</td>\n",
       "      <td>39.000000</td>\n",
       "      <td>0.5</td>\n",
       "      <td>25.000000</td>\n",
       "    </tr>\n",
       "    <tr>\n",
       "      <th>75%</th>\n",
       "      <td>71.700000</td>\n",
       "      <td>0.910000</td>\n",
       "      <td>49.000000</td>\n",
       "      <td>0.5</td>\n",
       "      <td>30.000000</td>\n",
       "    </tr>\n",
       "    <tr>\n",
       "      <th>max</th>\n",
       "      <td>212.000000</td>\n",
       "      <td>2.500000</td>\n",
       "      <td>80.000000</td>\n",
       "      <td>0.5</td>\n",
       "      <td>534.000000</td>\n",
       "    </tr>\n",
       "  </tbody>\n",
       "</table>\n",
       "</div>"
      ],
      "text/plain": [
       "       Temperature    Rainfall      Flyers  Price       Sales\n",
       "count   365.000000  365.000000  365.000000  365.0  365.000000\n",
       "mean     61.224658    0.825973   40.104110    0.5   27.865753\n",
       "std      18.085892    0.273890   13.786445    0.0   30.948132\n",
       "min      15.100000    0.400000  -38.000000    0.5    7.000000\n",
       "25%      49.700000    0.650000   31.000000    0.5   20.000000\n",
       "50%      61.100000    0.740000   39.000000    0.5   25.000000\n",
       "75%      71.700000    0.910000   49.000000    0.5   30.000000\n",
       "max     212.000000    2.500000   80.000000    0.5  534.000000"
      ]
     },
     "execution_count": 22,
     "metadata": {},
     "output_type": "execute_result"
    }
   ],
   "source": [
    "df.describe()"
   ]
  },
  {
   "cell_type": "markdown",
   "id": "50bd850e",
   "metadata": {},
   "source": [
    "For temperature, I may keep all rows except row 41; 212 degrees is a bit over 96.70\n",
    "\n",
    "For flyers, with an upper fence of 70, I would keep all of these rows as well\n",
    "\n",
    "For sales, all these values are far higher than the upper bound; I would drop all of these"
   ]
  },
  {
   "cell_type": "markdown",
   "id": "ac69eed6",
   "metadata": {},
   "source": [
    "**2. Identify if any columns in lemonade.csv are normally distributed. For normally distributed columns:\n",
    "Use a 2 sigma decision rule to isolate the outliers.**\n",
    "\n",
    "    - Do these make sense?\n",
    "\n",
    "    - Should certain outliers be kept or removed?"
   ]
  },
  {
   "cell_type": "code",
   "execution_count": 26,
   "id": "c8d0276a",
   "metadata": {},
   "outputs": [],
   "source": [
    "num_cols = []\n",
    "for col in df.columns:\n",
    "    if is_numeric_dtype(df[col]) == True:\n",
    "        num_cols.append(col)"
   ]
  },
  {
   "cell_type": "code",
   "execution_count": 33,
   "id": "6f8b7168",
   "metadata": {
    "scrolled": false
   },
   "outputs": [
    {
     "data": {
      "image/png": "[encoded data removed]",
      "text/plain": [
       "<Figure size 640x480 with 1 Axes>"
      ]
     },
     "metadata": {},
     "output_type": "display_data"
    },
    {
     "data": {
      "image/png": "[encoded data removed]",
      "text/plain": [
       "<Figure size 640x480 with 1 Axes>"
      ]
     },
     "metadata": {},
     "output_type": "display_data"
    },
    {
     "data": {
      "image/png": "[encoded data removed]",
      "text/plain": [
       "<Figure size 640x480 with 1 Axes>"
      ]
     },
     "metadata": {},
     "output_type": "display_data"
    },
    {
     "data": {
      "image/png": "[encoded data removed]",
      "text/plain": [
       "<Figure size 640x480 with 1 Axes>"
      ]
     },
     "metadata": {},
     "output_type": "display_data"
    },
    {
     "data": {
      "image/png": "[encoded data removed]",
      "text/plain": [
       "<Figure size 640x480 with 1 Axes>"
      ]
     },
     "metadata": {},
     "output_type": "display_data"
    }
   ],
   "source": [
    "for col in num_cols:\n",
    "    df[col].hist()\n",
    "    plt.title(f'Distribution of {col}')\n",
    "    plt.show()"
   ]
  },
  {
   "cell_type": "code",
   "execution_count": 34,
   "id": "040065b3",
   "metadata": {
    "scrolled": false
   },
   "outputs": [
    {
     "data": {
      "image/png": "[encoded data removed]",
      "text/plain": [
       "<Figure size 640x480 with 1 Axes>"
      ]
     },
     "metadata": {},
     "output_type": "display_data"
    },
    {
     "data": {
      "image/png": "[encoded data removed]",
      "text/plain": [
       "<Figure size 640x480 with 1 Axes>"
      ]
     },
     "metadata": {},
     "output_type": "display_data"
    },
    {
     "data": {
      "image/png": "[encoded data removed]",
      "text/plain": [
       "<Figure size 640x480 with 1 Axes>"
      ]
     },
     "metadata": {},
     "output_type": "display_data"
    },
    {
     "data": {
      "image/png": "[encoded data removed]",
      "text/plain": [
       "<Figure size 640x480 with 1 Axes>"
      ]
     },
     "metadata": {},
     "output_type": "display_data"
    },
    {
     "data": {
      "image/png": "[encoded data removed]",
      "text/plain": [
       "<Figure size 640x480 with 1 Axes>"
      ]
     },
     "metadata": {},
     "output_type": "display_data"
    }
   ],
   "source": [
    "for col in num_cols:\n",
    "    sns.boxplot(data=df, x=df[col])\n",
    "    plt.title(f'Distribution of {col}')\n",
    "    plt.show()"
   ]
  },
  {
   "cell_type": "code",
   "execution_count": null,
   "id": "afa74428",
   "metadata": {},
   "outputs": [],
   "source": [
    "# Normally Distributed columns:  Temperature, Flyers, Rainfall"
   ]
  },
  {
   "cell_type": "code",
   "execution_count": 36,
   "id": "f24a810b",
   "metadata": {},
   "outputs": [],
   "source": [
    "df.columns = [col.lower().replace('.','_') for col in df.columns]"
   ]
  },
  {
   "cell_type": "code",
   "execution_count": 37,
   "id": "31d50ab5",
   "metadata": {},
   "outputs": [
    {
     "data": {
      "text/plain": [
       "Index(['date', 'day', 'temperature', 'rainfall', 'flyers', 'price', 'sales'], dtype='object')"
      ]
     },
     "execution_count": 37,
     "metadata": {},
     "output_type": "execute_result"
    }
   ],
   "source": []
  },
  {
   "cell_type": "code",
   "execution_count": 38,
   "id": "1e831b09",
   "metadata": {},
   "outputs": [],
   "source": [
    "norm_cols = ['temperature', 'flyers', 'rainfall']"
   ]
  },
  {
   "cell_type": "code",
   "execution_count": 44,
   "id": "a72f4012",
   "metadata": {},
   "outputs": [
    {
     "data": {
      "text/plain": [
       "0.27389026701985425"
      ]
     },
     "execution_count": 44,
     "metadata": {},
     "output_type": "execute_result"
    }
   ],
   "source": [
    "df['rainfall'].std()"
   ]
  },
  {
   "cell_type": "code",
   "execution_count": 46,
   "id": "052d4bf6",
   "metadata": {},
   "outputs": [
    {
     "name": "stdout",
     "output_type": "stream",
     "text": [
      " For Column temperature\n",
      "                             41                   166                  176  \\\n",
      "date         2017-02-11 00:00:00  2017-06-16 00:00:00  2017-06-26 00:00:00   \n",
      "day                     Saturday               Friday               Monday   \n",
      "temperature                212.0                 99.3                102.6   \n",
      "rainfall                    0.91                 0.47                 0.47   \n",
      "flyers                        35                   77                   60   \n",
      "price                        0.5                  0.5                  0.5   \n",
      "sales                         21                   41                   42   \n",
      "\n",
      "                             181                  190                  198  \\\n",
      "date         2017-07-01 00:00:00  2017-07-10 00:00:00  2017-07-18 00:00:00   \n",
      "day                     Saturday               Monday              Tuesday   \n",
      "temperature                102.9                 98.0                 99.3   \n",
      "rainfall                    0.47                 0.49                 0.47   \n",
      "flyers                        59                   66                   76   \n",
      "price                        0.5                  0.5                  0.5   \n",
      "sales                        143                   40                   41   \n",
      "\n",
      "                             202                  207                  338  \\\n",
      "date         2017-07-22 00:00:00  2017-07-27 00:00:00  2017-12-05 00:00:00   \n",
      "day                     Saturday             Thursday              Tuesday   \n",
      "temperature                 99.6                 97.9                 22.0   \n",
      "rainfall                    0.47                 0.47                 1.82   \n",
      "flyers                        49                   74                   11   \n",
      "price                        0.5                  0.5                  0.5   \n",
      "sales                         42                   43                   10   \n",
      "\n",
      "                             364  \n",
      "date         2017-12-31 00:00:00  \n",
      "day                       Sunday  \n",
      "temperature                 15.1  \n",
      "rainfall                     2.5  \n",
      "flyers                         9  \n",
      "price                        0.5  \n",
      "sales                          7  \n",
      "=============\n",
      " For Column flyers\n",
      "                             166                  170                  171  \\\n",
      "date         2017-06-16 00:00:00  2017-06-20 00:00:00  2017-06-21 00:00:00   \n",
      "day                       Friday              Tuesday            Wednesday   \n",
      "temperature                 99.3                 85.1                 94.3   \n",
      "rainfall                    0.47                 0.54                 0.47   \n",
      "flyers                        77                   70                   76   \n",
      "price                        0.5                  0.5                  0.5   \n",
      "sales                         41                   37                   41   \n",
      "\n",
      "                             182                  183                  194  \\\n",
      "date         2017-07-02 00:00:00  2017-07-03 00:00:00  2017-07-14 00:00:00   \n",
      "day                       Sunday               Monday               Friday   \n",
      "temperature                 93.4                 81.5                 92.0   \n",
      "rainfall                    0.51                 0.54                  0.5   \n",
      "flyers                        68                   68                   80   \n",
      "price                        0.5                  0.5                  0.5   \n",
      "sales                        158                  235                   40   \n",
      "\n",
      "                             198                  203                  204  \\\n",
      "date         2017-07-18 00:00:00  2017-07-23 00:00:00  2017-07-24 00:00:00   \n",
      "day                      Tuesday               Sunday               Monday   \n",
      "temperature                 99.3                 89.1                 83.5   \n",
      "rainfall                    0.47                 0.51                 0.57   \n",
      "flyers                        76                   72                   69   \n",
      "price                        0.5                  0.5                  0.5   \n",
      "sales                         41                   37                   35   \n",
      "\n",
      "                             207                  324                  338  \\\n",
      "date         2017-07-27 00:00:00  2017-11-21 00:00:00  2017-12-05 00:00:00   \n",
      "day                     Thursday              Tuesday              Tuesday   \n",
      "temperature                 97.9                 47.0                 22.0   \n",
      "rainfall                    0.47                 0.95                 1.82   \n",
      "flyers                        74                  -38                   11   \n",
      "price                        0.5                  0.5                  0.5   \n",
      "sales                         43                   20                   10   \n",
      "\n",
      "                             364  \n",
      "date         2017-12-31 00:00:00  \n",
      "day                       Sunday  \n",
      "temperature                 15.1  \n",
      "rainfall                     2.5  \n",
      "flyers                         9  \n",
      "price                        0.5  \n",
      "sales                          7  \n",
      "=============\n",
      " For Column rainfall\n",
      "                             0                    5                    6    \\\n",
      "date         2017-01-01 00:00:00  2017-01-06 00:00:00  2017-01-07 00:00:00   \n",
      "day                       Sunday               Friday             Saturday   \n",
      "temperature                 27.0                 25.3                 32.9   \n",
      "rainfall                     2.0                 1.54                 1.54   \n",
      "flyers                        15                   23                   19   \n",
      "price                        0.5                  0.5                  0.5   \n",
      "sales                         10                   11                   13   \n",
      "\n",
      "                             10                   15                   16   \\\n",
      "date         2017-01-11 00:00:00  2017-01-16 00:00:00  2017-01-17 00:00:00   \n",
      "day                    Wednesday               Monday              Tuesday   \n",
      "temperature                 32.6                 30.6                 32.2   \n",
      "rainfall                    1.54                 1.67                 1.43   \n",
      "flyers                        23                   24                   26   \n",
      "price                        0.5                  0.5                  0.5   \n",
      "sales                         12                   12                   14   \n",
      "\n",
      "                             19                   23                   337  \\\n",
      "date         2017-01-20 00:00:00  2017-01-24 00:00:00  2017-12-04 00:00:00   \n",
      "day                       Friday              Tuesday               Monday   \n",
      "temperature                 31.6                 28.6                 34.9   \n",
      "rainfall                    1.43                 1.54                 1.54   \n",
      "flyers                        20                   20                   16   \n",
      "price                        0.5                  0.5                  0.5   \n",
      "sales                         12                   12                   13   \n",
      "\n",
      "                             338                  342                  343  \\\n",
      "date         2017-12-05 00:00:00  2017-12-09 00:00:00  2017-12-10 00:00:00   \n",
      "day                      Tuesday             Saturday               Sunday   \n",
      "temperature                 22.0                 31.2                 31.3   \n",
      "rainfall                    1.82                 1.43                 1.82   \n",
      "flyers                        11                   19                   15   \n",
      "price                        0.5                  0.5                  0.5   \n",
      "sales                         10                   14                   11   \n",
      "\n",
      "                             346                  347                  351  \\\n",
      "date         2017-12-13 00:00:00  2017-12-14 00:00:00  2017-12-18 00:00:00   \n",
      "day                    Wednesday             Thursday               Monday   \n",
      "temperature                 32.2                 31.9                 30.9   \n",
      "rainfall                    1.43                 1.54                 1.43   \n",
      "flyers                        26                   24                   27   \n",
      "price                        0.5                  0.5                  0.5   \n",
      "sales                         14                   13                   13   \n",
      "\n",
      "                             355                  359                  363  \\\n",
      "date         2017-12-22 00:00:00  2017-12-26 00:00:00  2017-12-30 00:00:00   \n",
      "day                       Friday              Tuesday             Saturday   \n",
      "temperature                 30.9                 28.9                 30.9   \n",
      "rainfall                    1.54                 1.43                 1.43   \n",
      "flyers                        17                   23                   22   \n",
      "price                        0.5                  0.5                  0.5   \n",
      "sales                         13                   13                   13   \n",
      "\n",
      "                             364  \n",
      "date         2017-12-31 00:00:00  \n",
      "day                       Sunday  \n",
      "temperature                 15.1  \n",
      "rainfall                     2.5  \n",
      "flyers                         9  \n",
      "price                        0.5  \n",
      "sales                          7  \n",
      "=============\n"
     ]
    }
   ],
   "source": [
    "for col in norm_cols:\n",
    "    print(f' For Column {col}')\n",
    "    print(df[(((\n",
    "    df[col] - df[col].mean()\n",
    ")/ df[col].std()) > 2) | (((\n",
    "    df[col] - df[col].mean()\n",
    ")/ df[col].std()) < -2)].T)\n",
    "    print('=============')"
   ]
  },
  {
   "cell_type": "markdown",
   "id": "37d2407e",
   "metadata": {},
   "source": [
    "**3. Now use a 3 sigma decision rule to isolate the outliers in the normally distributed columns from lemonade.csv**"
   ]
  },
  {
   "cell_type": "code",
   "execution_count": 47,
   "id": "d72859cb",
   "metadata": {},
   "outputs": [
    {
     "name": "stdout",
     "output_type": "stream",
     "text": [
      " For Column temperature\n",
      "                              41\n",
      "date         2017-02-11 00:00:00\n",
      "day                     Saturday\n",
      "temperature                212.0\n",
      "rainfall                    0.91\n",
      "flyers                        35\n",
      "price                        0.5\n",
      "sales                         21\n",
      "=============\n",
      " For Column flyers\n",
      "                             324\n",
      "date         2017-11-21 00:00:00\n",
      "day                      Tuesday\n",
      "temperature                 47.0\n",
      "rainfall                    0.95\n",
      "flyers                       -38\n",
      "price                        0.5\n",
      "sales                         20\n",
      "=============\n",
      " For Column rainfall\n",
      "                             0                    15                   338  \\\n",
      "date         2017-01-01 00:00:00  2017-01-16 00:00:00  2017-12-05 00:00:00   \n",
      "day                       Sunday               Monday              Tuesday   \n",
      "temperature                 27.0                 30.6                 22.0   \n",
      "rainfall                     2.0                 1.67                 1.82   \n",
      "flyers                        15                   24                   11   \n",
      "price                        0.5                  0.5                  0.5   \n",
      "sales                         10                   12                   10   \n",
      "\n",
      "                             343                  364  \n",
      "date         2017-12-10 00:00:00  2017-12-31 00:00:00  \n",
      "day                       Sunday               Sunday  \n",
      "temperature                 31.3                 15.1  \n",
      "rainfall                    1.82                  2.5  \n",
      "flyers                        15                    9  \n",
      "price                        0.5                  0.5  \n",
      "sales                         11                    7  \n",
      "=============\n"
     ]
    }
   ],
   "source": [
    "for col in norm_cols:\n",
    "    print(f' For Column {col}')\n",
    "    print(df[(((\n",
    "    df[col] - df[col].mean()\n",
    ")/ df[col].std()) > 3) | (((\n",
    "    df[col] - df[col].mean()\n",
    ")/ df[col].std()) < -3)].T)\n",
    "    print('=============')"
   ]
  },
  {
   "cell_type": "code",
   "execution_count": null,
   "id": "3b5356f5",
   "metadata": {},
   "outputs": [],
   "source": []
  },
  {
   "cell_type": "code",
   "execution_count": null,
   "id": "d885dd0c",
   "metadata": {},
   "outputs": [],
   "source": []
  },
  {
   "cell_type": "code",
   "execution_count": null,
   "id": "dc857446",
   "metadata": {},
   "outputs": [],
   "source": []
  },
  {
   "cell_type": "code",
   "execution_count": null,
   "id": "d517ed06",
   "metadata": {},
   "outputs": [],
   "source": []
  },
  {
   "cell_type": "code",
   "execution_count": null,
   "id": "292740a2",
   "metadata": {},
   "outputs": [],
   "source": []
  },
  {
   "cell_type": "code",
   "execution_count": null,
   "id": "8c064644",
   "metadata": {},
   "outputs": [],
   "source": []
  },
  {
   "cell_type": "code",
   "execution_count": null,
   "id": "b64cde27",
   "metadata": {},
   "outputs": [],
   "source": []
  },
  {
   "cell_type": "code",
   "execution_count": null,
   "id": "ae9b1b21",
   "metadata": {},
   "outputs": [],
   "source": []
  },
  {
   "cell_type": "code",
   "execution_count": null,
   "id": "53fa5615",
   "metadata": {},
   "outputs": [],
   "source": []
  }
 ],
 "metadata": {
  "kernelspec": {
   "display_name": "Python 3 (ipykernel)",
   "language": "python",
   "name": "python3"
  },
  "language_info": {
   "codemirror_mode": {
    "name": "ipython",
    "version": 3
   },
   "file_extension": ".py",
   "mimetype": "text/x-python",
   "name": "python",
   "nbconvert_exporter": "python",
   "pygments_lexer": "ipython3",
   "version": "3.9.13"
  }
 },
 "nbformat": 4,
 "nbformat_minor": 5
}
